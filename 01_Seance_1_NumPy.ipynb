{
 "cells": [
  {
   "cell_type": "markdown",
   "metadata": {},
   "source": [
    "# **Algèbre Linéaire de base avec NumPy**\n",
    "\n",
    "<figure style=\"padding: 1em;\">\n",
    "    <img src=\"img/0.numpy-linear.jpg\" width=\"700\" height=\"500\" alt=\"\">\n",
    "</figure>\n",
    "\n",
    "\n",
    ">> L'algèbre linéaire est la branche des mathématiques qui se concentre sur les équations linéaires.   \n",
    "\n",
    "Les concepts de l'**algèbre linéaire sont cruciaux pour comprendre la théorie derrière le Machine Learning (ML), en particulier celle du Deep Learning**. Ils vous donnent une meilleure intuition sur le fonctionnement des algorithmes, ce qui vous permet de prendre de meilleures décisions. Donc, **si vous voulez vraiment être un professionnel** dans ce domaine, vous ne pouvez pas échapper à la maîtrise de certains de ses concepts.    \n",
    "\n",
    "Ce notebook vous donnera une introduction générale aux concepts les plus importants de l'algèbre linéaire de base utilisés dans le ML.\n",
    "\n",
    "\n",
    "**NB:** **Vous n'avez pas forcément besoin de maitriser l'algèbre linéaire avant de commencer avec le Machine Learning, mais à un moment donné, vous voudrez peut-être mieux comprendre comment les différents algorithmes fonctionnent vraiment en coulisses**."
   ]
  },
  {
   "cell_type": "markdown",
   "metadata": {},
   "source": [
    "#### **I. Objets mathématiques en algèbre linéaire**\n",
    "\n",
    "En algèbre linéaire, les données sont représentées par des équations linéaires, qui sont présentées sous forme de **matrices et de vecteurs**.   \n",
    "Par conséquent, vous traitez principalement avec des matrices et des vecteurs plutôt qu'avec des scalaires. Lorsque vous disposez des bonnes bibliothèques, comme **Numpy**, vous pouvez effectuer des multiplications de matrices complexes très facilement avec seulement quelques lignes de code.\n",
    "\n",
    "<figure style=\"padding: 1em;\">\n",
    "    <img src=\"img/math-objects.png\" width=\"500\" height=\"300\" alt=\"\">\n",
    "</figure>\n",
    "\n",
    "##### **1. Scalaire:**\n",
    "Un scalaire est simplement un **nombre unique**.   \n",
    "Par exemple **24**."
   ]
  },
  {
   "cell_type": "code",
   "execution_count": 38,
   "metadata": {},
   "outputs": [
    {
     "name": "stdout",
     "output_type": "stream",
     "text": [
      "24\n",
      "<class 'int'>\n"
     ]
    }
   ],
   "source": [
    "import numpy as np\n",
    "\n",
    "scalaire = 24\n",
    "print(scalaire)\n",
    "print(type(scalaire))"
   ]
  },
  {
   "cell_type": "code",
   "execution_count": 39,
   "metadata": {},
   "outputs": [
    {
     "name": "stdout",
     "output_type": "stream",
     "text": [
      "24\n",
      "<class 'numpy.ndarray'>\n"
     ]
    }
   ],
   "source": [
    "scalaire = np.array(24)\n",
    "print(scalaire)\n",
    "print(type(scalaire))"
   ]
  },
  {
   "cell_type": "markdown",
   "metadata": {},
   "source": [
    "##### **2. Vecteur:**\n",
    "Un vecteur est un **tableau ordonné de nombres et peut être en ligne ou en colonne**. Un vecteur a juste un indice unique, qui peut pointer vers une valeur spécifique dans le vecteur.   \n",
    "\n",
    "Par exemple, **V[2]** se réfère à la deuxième valeur dans le vecteur, qui est -6 dans le graphique précedent.\n",
    "\n",
    "<figure style=\"padding: 1em;\">\n",
    "    <img src=\"img/2.vector.jpg\" width=\"500\" height=\"300\" alt=\"\">\n",
    "</figure>"
   ]
  },
  {
   "cell_type": "code",
   "execution_count": 40,
   "metadata": {},
   "outputs": [
    {
     "name": "stdout",
     "output_type": "stream",
     "text": [
      "[ 2 -6  9]\n"
     ]
    }
   ],
   "source": [
    "vecteur = np.array([2, -6, 9])\n",
    "print(vecteur)"
   ]
  },
  {
   "cell_type": "code",
   "execution_count": 41,
   "metadata": {},
   "outputs": [
    {
     "data": {
      "text/plain": [
       "np.int64(-6)"
      ]
     },
     "execution_count": 41,
     "metadata": {},
     "output_type": "execute_result"
    }
   ],
   "source": [
    "vecteur[1]"
   ]
  },
  {
   "cell_type": "code",
   "execution_count": 42,
   "metadata": {},
   "outputs": [
    {
     "name": "stdout",
     "output_type": "stream",
     "text": [
      "[[ 2]\n",
      " [-6]\n",
      " [ 9]]\n"
     ]
    }
   ],
   "source": [
    "vecteur = np.array([[2], \n",
    "                    [-6], \n",
    "                    [9]\n",
    "                    ])\n",
    "print(vecteur)"
   ]
  },
  {
   "cell_type": "markdown",
   "metadata": {},
   "source": [
    "##### **3. Matrice:**\n",
    "Une matrice est un **tableau 2D ordonné de nombres et elle a deux indices**. Le premier pointe vers la ligne et le second vers la colonne.  \n",
    "\n",
    "Par exemple, **M[2,3]** se réfère à la valeur dans la deuxième ligne et la troisième colonne, qui est -7 dans le graphique jaune ci-dessus. Une matrice peut avoir plusieurs lignes et colonnes. \n",
    "\n",
    "> **NB:** Un vecteur est aussi une matrice, mais avec une seule ligne ou une seule colonne.\n",
    "\n",
    "La matrice dans l'exemple du graphique jaune est également une matrice dimensionnelle 2 par 3 (lignes x colonnes). Ci-dessous, vous pouvez voir un autre exemple de matrice ainsi que sa notation :\n",
    "\n",
    "<figure style=\"padding: 1em;\">\n",
    "    <img src=\"img/3.matrix.jpg\" width=\"500\" height=\"300\" alt=\"\">\n",
    "</figure>"
   ]
  },
  {
   "cell_type": "code",
   "execution_count": 43,
   "metadata": {},
   "outputs": [
    {
     "name": "stdout",
     "output_type": "stream",
     "text": [
      "[[1 2 3]\n",
      " [4 5 6]]\n"
     ]
    }
   ],
   "source": [
    "matrice = np.array([[1, 2, 3], \n",
    "                    [4, 5, 6]\n",
    "                    ])\n",
    "print(matrice)"
   ]
  },
  {
   "cell_type": "code",
   "execution_count": 44,
   "metadata": {},
   "outputs": [
    {
     "name": "stdout",
     "output_type": "stream",
     "text": [
      "[[ 7  8  9 10]\n",
      " [11 12 13 14]\n",
      " [15 16 17 18]]\n"
     ]
    }
   ],
   "source": [
    "matrice = np.array([[7,   8,  9, 10], \n",
    "                    [11, 12, 13, 14], \n",
    "                    [15, 16, 17, 18]\n",
    "                    ])\n",
    "print(matrice)"
   ]
  },
  {
   "cell_type": "markdown",
   "metadata": {},
   "source": [
    "##### **4. Tenseur:**\n",
    "Vous pouvez penser à un tenseur comme **un tableau de nombres, arrangé sur une grille régulière, avec un nombre variable d'axes**. Un tenseur a trois indices, où le premier pointe vers la ligne, le second vers la colonne et le troisième vers l'axe.   \n",
    "\n",
    "Par exemple, **T[2,3,2]** pointe vers la deuxième ligne, la troisième colonne et le second axe. Cela se réfère à la valeur 0 dans le tenseur de droite dans le graphique ci-dessous :\n",
    "\n",
    "<figure style=\"padding: 1em;\">\n",
    "    <img src=\"img/4.tensor.png\" width=\"500\" height=\"300\" alt=\"\">\n",
    "</figure>"
   ]
  },
  {
   "cell_type": "code",
   "execution_count": 45,
   "metadata": {},
   "outputs": [
    {
     "name": "stdout",
     "output_type": "stream",
     "text": [
      "[[[1 2]\n",
      "  [3 4]]\n",
      "\n",
      " [[5 6]\n",
      "  [7 8]]]\n"
     ]
    }
   ],
   "source": [
    "tenseur = np.array([[[1, 2], [3, 4]], \n",
    "                    [[5, 6], [7, 8]]\n",
    "                    ])\n",
    "print(tenseur)"
   ]
  },
  {
   "cell_type": "code",
   "execution_count": 46,
   "metadata": {},
   "outputs": [
    {
     "name": "stdout",
     "output_type": "stream",
     "text": [
      "[[[ 9 10 11]\n",
      "  [12 13 14]]\n",
      "\n",
      " [[15 16 17]\n",
      "  [18 19 20]]\n",
      "\n",
      " [[21 22 23]\n",
      "  [24 25 26]]]\n"
     ]
    }
   ],
   "source": [
    "tenseur = np.array([[[9, 10, 11],  [12, 13, 14]], \n",
    "                    [[15, 16, 17], [18, 19, 20]], \n",
    "                    [[21, 22, 23], [24, 25, 26]]\n",
    "                ])\n",
    "print(tenseur)"
   ]
  },
  {
   "cell_type": "markdown",
   "metadata": {},
   "source": [
    "\n",
    "> **NB:** **Le tenseur est le terme le plus général pour tous ces concepts ci-dessus car un tenseur est un tableau multidimensionnel et il peut être un vecteur et une matrice**, selon le nombre d'indices qu'il a. \n",
    "> Par exemple:\n",
    "> - un tenseur de premier ordre serait un vecteur (1 indice). \n",
    "> - un tenseur de second ordre est une matrice (2 indices) et \n",
    "> - les tenseurs de troisième ordre (3 indices) et plus sont appelés des tenseurs d'ordre supérieur (3 indices ou plus)."
   ]
  },
  {
   "cell_type": "markdown",
   "metadata": {},
   "source": [
    "#### **II. Règles de calcul de l'algèbre linéaire**\n",
    "\n",
    "##### **1. Opérations Matrice-Scalaire**\n",
    "\n",
    "Si vous multipliez, divisez, soustrayez ou ajoutez un scalaire à une matrice, vous le faites avec chaque élément de la matrice (avec NumPy notamment).\n",
    "L'image ci-dessous illustre cela parfaitement pour la multiplication :\n",
    "\n",
    "<figure style=\"padding: 1em;\">\n",
    "    <img src=\"img/5..jpg\" width=\"500\" height=\"300\"  alt=\"\">\n",
    "</figure>\n",
    "\n",
    "\n",
    "##### **2. Multiplication Matrice-Vecteur**\n",
    "Multiplier une matrice par un vecteur peut être considéré comme multiplier chaque ligne de la matrice par la colonne du vecteur. **Le résultat sera un vecteur qui a le même nombre de lignes que la matrice.**   \n",
    "\n",
    "L'image ci-dessous montre comment cela fonctionne :\n",
    "\n",
    "<figure style=\"padding: 1em;\">\n",
    "    <img src=\"img/6..jpg\" width=\"400\" height=\"200\"  alt=\"\">\n",
    "</figure>\n",
    "\n",
    "<figure style=\"padding: 1em;\">\n",
    "    <img src=\"img/7..jpg\" width=\"400\" height=\"200\"  alt=\"\">\n",
    "</figure>\n",
    "\n",
    "\n",
    "Pour mieux comprendre le concept, nous passerons en revue le calcul de la deuxième image. \n",
    "\n",
    "- Pour obtenir la première valeur du vecteur résultant (16), nous prenons les nombres du vecteur que nous voulons multiplier avec la matrice (1 et 5), et les multiplions avec les nombres de la première ligne de la matrice (1 et 3). Cela ressemble à ceci : `1*1 + 3*5 = 16`\n",
    "\n",
    "- Nous faisons de même pour les valeurs de la deuxième ligne de la matrice : `4*1 + 0*5 = 4`\n",
    "\n",
    "- Et encore pour la troisième ligne de la matrice : `2*1 + 1*5 = 7`\n",
    "\n",
    "Voici un autre exemple :\n",
    "<figure style=\"padding: 1em;\">\n",
    "    <img src=\"img/8..jpg\" width=\"500\" height=\"300\"  alt=\"\">\n",
    "</figure>\n",
    "\n",
    "**Et voici une forme plus générale :**\n",
    "<figure style=\"padding: 1em;\">\n",
    "    <img src=\"img/10..jpg\" width=\"500\" height=\"300\" alt=\"\">\n",
    "</figure>\n",
    "\n",
    "\n",
    "##### **3. Addition et soustraction Matrice-Matrice**\n",
    "\n",
    "L'addition et la soustraction matrice-matrice sont assez faciles et directes. **La condition est que les matrices aient les mêmes dimensions** et donc le résultat est une matrice qui a également les mêmes dimensions.   \n",
    "\n",
    "Vous ajoutez ou soustrayez simplement chaque valeur de la première matrice avec sa valeur correspondante dans la deuxième matrice. Voir ci-dessous :\n",
    "\n",
    "<figure style=\"padding: 1em;\">\n",
    "    <img src=\"img/11..jpg\" width=\"500\" height=\"300\" alt=\"\">\n",
    "</figure>\n",
    "\n",
    "\n",
    "#### **4. Multiplication Matrice-Matrice**\n",
    "\n",
    "Multiplier deux matrices ensemble n'est pas si difficile non plus si vous savez comment multiplier une matrice par un vecteur.   \n",
    "\n",
    "Notez que vous ne pouvez multiplier des matrices ensemble que **ssi le nombre de colonnes de la première matrice correspond au nombre de lignes de la deuxième matrice.** Le résultat sera une matrice avec le même nombre de lignes que la première matrice et le même nombre de colonnes que la deuxième matrice. \n",
    "\n",
    "Cela fonctionne comme suit :\n",
    "\n",
    "Vous divisez simplement la deuxième matrice en colonnes-vecteurs et multipliez la première matrice séparément par chacune de ces colonnes. Ensuite, vous mettez les résultats dans une nouvelle matrice (sans les additionner !). L'image ci-dessous explique cela étape par étape :\n",
    "\n",
    "<figure style=\"padding: 1em;\">\n",
    "    <img src=\"img/12..jpg\" width=\"400\" height=\"300\"  alt=\"\">\n",
    "</figure>\n",
    "\n",
    "\n",
    "**Une forme plus générale!**\n",
    "<figure style=\"padding: 1em;\">\n",
    "    <img src=\"img/13.jpg\" width=\"500\" height=\"300\" alt=\"\">\n",
    "</figure>"
   ]
  },
  {
   "cell_type": "markdown",
   "metadata": {},
   "source": [
    "#### **III. Propriétés de la Multiplication de Matrices**\n",
    "\n",
    "La multiplication de matrices a plusieurs propriétés qui nous permettent de regrouper beaucoup de calculs en une seule multiplication de matrices. Nous les discuterons une par une ci-dessous. Nous commencerons par expliquer ces concepts avec des scalaires et ensuite avec des matrices car cela vous donnera une meilleure compréhension du processus.\n",
    "\n",
    "##### **1. Non Commutatif**\n",
    "\n",
    "La multiplication scalaire est commutative mais la multiplication de matrices ne l'est pas.  \n",
    "\n",
    "Cela signifie que lorsque nous multiplions des scalaires, **7\\*3 est le même que 3\\*7**.   \n",
    "Mais lorsque nous multiplions des matrices entre elles, **A\\*B n'est pas le même que B\\*A**."
   ]
  },
  {
   "cell_type": "code",
   "execution_count": 47,
   "metadata": {},
   "outputs": [
    {
     "name": "stdout",
     "output_type": "stream",
     "text": [
      "True\n"
     ]
    }
   ],
   "source": [
    "### exemple de multiplication scalaire (commutatif)\n",
    "scalaire1 = 7\n",
    "scalaire2 = 3\n",
    "print(scalaire1 * scalaire2 == scalaire2 * scalaire1)  # True"
   ]
  },
  {
   "cell_type": "code",
   "execution_count": 48,
   "metadata": {},
   "outputs": [],
   "source": [
    "### exemple de multiplication de matrices (non commutatif)\n",
    "A = np.array([[1, 2], \n",
    "              [3, 4]\n",
    "              ])\n",
    "\n",
    "B = np.array([[2, 0], \n",
    "              [1, 2]\n",
    "              ])\n",
    "\n"
   ]
  },
  {
   "cell_type": "code",
   "execution_count": 49,
   "metadata": {},
   "outputs": [
    {
     "data": {
      "text/plain": [
       "array([[ 4,  4],\n",
       "       [10,  8]])"
      ]
     },
     "execution_count": 49,
     "metadata": {},
     "output_type": "execute_result"
    }
   ],
   "source": [
    "np.dot(A, B)"
   ]
  },
  {
   "cell_type": "code",
   "execution_count": 50,
   "metadata": {},
   "outputs": [
    {
     "data": {
      "text/plain": [
       "array([[ 2,  4],\n",
       "       [ 7, 10]])"
      ]
     },
     "execution_count": 50,
     "metadata": {},
     "output_type": "execute_result"
    }
   ],
   "source": [
    "np.dot(B, A)"
   ]
  },
  {
   "cell_type": "code",
   "execution_count": 51,
   "metadata": {},
   "outputs": [
    {
     "name": "stdout",
     "output_type": "stream",
     "text": [
      "[[False  True]\n",
      " [False False]]\n"
     ]
    }
   ],
   "source": [
    "# Vérifier l'égalité (mais là il y aura un probléme!!!)\n",
    "print(np.dot(A, B) == np.dot(B, A))"
   ]
  },
  {
   "cell_type": "code",
   "execution_count": 52,
   "metadata": {},
   "outputs": [
    {
     "name": "stdout",
     "output_type": "stream",
     "text": [
      "False\n"
     ]
    }
   ],
   "source": [
    "print(np.allclose(np.dot(A, B), np.dot(B, A)))  # False"
   ]
  },
  {
   "cell_type": "markdown",
   "metadata": {},
   "source": [
    "##### **2. Associatif**\n",
    "\n",
    "La multiplication scalaire et la multiplication de matrices sont **toutes deux associatives.** \n",
    "\n",
    "Cela signifie que la multiplication scalaire **4\\*(5\\*3) est la même que (4\\*5)\\*3** et que la multiplication de matrices **A(B\\*C) est la même que (A\\*B)C.**"
   ]
  },
  {
   "cell_type": "code",
   "execution_count": 53,
   "metadata": {},
   "outputs": [
    {
     "name": "stdout",
     "output_type": "stream",
     "text": [
      "True\n"
     ]
    }
   ],
   "source": [
    "scalaire3 = 5\n",
    "scalaire4 = 3\n",
    "\n",
    "print((scalaire1 * (scalaire3 * scalaire4)) == ((scalaire1 * scalaire3) * scalaire4))"
   ]
  },
  {
   "cell_type": "code",
   "execution_count": 54,
   "metadata": {},
   "outputs": [
    {
     "name": "stdout",
     "output_type": "stream",
     "text": [
      "True\n"
     ]
    }
   ],
   "source": [
    "C = np.array([[0, 1], \n",
    "              [2, 3]\n",
    "              ])\n",
    "\n",
    "left_associative = np.dot(A, np.dot(B, C))\n",
    "right_associative = np.dot(np.dot(A, B), C)\n",
    "\n",
    "print(np.allclose(left_associative, right_associative))"
   ]
  },
  {
   "cell_type": "markdown",
   "metadata": {},
   "source": [
    "##### **3. Distributif**\n",
    "\n",
    "La multiplication scalaire et la multiplication de matrices sont également **toutes deux distributives**. \n",
    "\n",
    "Cela signifie que **3(5 + 3) est le même que 3\\*5 + 3\\*3 et que A(B+C) est le même que A\\*B + A\\*C.**\n"
   ]
  },
  {
   "cell_type": "code",
   "execution_count": 55,
   "metadata": {},
   "outputs": [
    {
     "name": "stdout",
     "output_type": "stream",
     "text": [
      "True\n"
     ]
    }
   ],
   "source": [
    "### exemple de multiplication scalaire (distributif)\n",
    "print(scalaire1 * (scalaire3 + scalaire4) == (scalaire1 * scalaire3 + scalaire1 * scalaire4))"
   ]
  },
  {
   "cell_type": "code",
   "execution_count": 56,
   "metadata": {},
   "outputs": [
    {
     "name": "stdout",
     "output_type": "stream",
     "text": [
      "True\n"
     ]
    }
   ],
   "source": [
    "### exemple de multiplication de matrices (distributif)\n",
    "D = np.array([[1, 1], [1, 1]])\n",
    "left_distributive = np.dot(A, (B + D))\n",
    "right_distributive = np.dot(A, B) + np.dot(A, D)\n",
    "\n",
    "print(np.allclose(left_distributive, right_distributive))"
   ]
  },
  {
   "cell_type": "markdown",
   "metadata": {},
   "source": [
    "##### **4. Matrice Identité**\n",
    "\n",
    "La matrice identité est un type spécial de matrice mais d'abord, nous devons définir ce qu'est une identité. \n",
    "\n",
    "Le nombre 1 est une identité car tout ce que vous multipliez par 1 est égal à lui-même. Par conséquent, chaque matrice qui est multipliée par une matrice identité est égale à elle-même. Par exemple, la matrice A multipliée par sa matrice identité est égale à A.\n",
    "\n",
    "Vous pouvez repérer une matrice identité par le fait qu'**elle a des uns le long de ses diagonales et que chaque autre valeur est zéro.** C'est aussi une **\"matrice carrée\"**, ce qui signifie que son nombre de lignes correspond à son nombre de colonnes.\n",
    "\n",
    "<figure style=\"padding: 1em;\">\n",
    "    <img src=\"img/14..jpg\" width=\"500\" height=\"300\" alt=\"\">\n",
    "</figure>"
   ]
  },
  {
   "cell_type": "code",
   "execution_count": 57,
   "metadata": {},
   "outputs": [
    {
     "name": "stdout",
     "output_type": "stream",
     "text": [
      "True\n"
     ]
    }
   ],
   "source": [
    "### exemple de matrice identité\n",
    "I = np.eye(2)\n",
    "\n",
    "print(np.allclose(np.dot(A, I), A))"
   ]
  },
  {
   "cell_type": "code",
   "execution_count": 58,
   "metadata": {},
   "outputs": [
    {
     "name": "stdout",
     "output_type": "stream",
     "text": [
      "True\n"
     ]
    }
   ],
   "source": [
    "print(np.allclose(np.dot(I, A), A))"
   ]
  },
  {
   "cell_type": "markdown",
   "metadata": {},
   "source": [
    "Nous avons précédemment discuté que la multiplication de matrices n'est pas commutative mais il y a une exception, à savoir si nous multiplions une matrice par une matrice identité. Par conséquent, l'équation suivante est vraie : **A\\*I = I\\*A = A**"
   ]
  },
  {
   "cell_type": "markdown",
   "metadata": {},
   "source": [
    "#### **IV. Inverse et Transposé**\n",
    "\n",
    "L'inverse de la matrice et le transposé de la matrice sont deux types particuliers de propriétés de matrices.  \n",
    "Encore une fois, nous commencerons par discuter de la manière dont ces propriétés se rapportent aux nombres réels, puis de la manière dont elles se rapportent aux matrices.\n",
    "\n",
    "##### **1. Inverse**\n",
    "\n",
    "Tout d'abord, qu'est-ce qu'un inverse ? **Un nombre qui est multiplié par son inverse est égal à 1.** \n",
    "\n",
    "Notez que **chaque nombre sauf 0 a un inverse. Si vous multipliez une matrice par son inverse, le résultat est sa matrice identité.** \n",
    "\n",
    "L'exemple ci-dessous montre à quoi ressemble l'inverse des scalaires :\n",
    "\n",
    "<figure style=\"padding: 1em;\">\n",
    "    <img src=\"img/15.jpg\" width=\"500\" height=\"200\" alt=\"\">\n",
    "</figure>\n",
    "\n",
    "**Mais toutes les matrices n'ont pas un inverse.** Vous pouvez calculer l'inverse d'une matrice si c'est une \"matrice carrée\" et si elle a un inverse. \n",
    "\n",
    "> **NB:** Discuter des matrices qui ont un inverse serait malheureusement hors du cadre de ce cours.\n",
    "\n",
    "Pourquoi avons-nous besoin d'un inverse ? Parce que nous ne pouvons pas diviser des matrices.   \n",
    "Il n'y a pas de concept de division par une matrice mais nous pouvons multiplier une matrice par un inverse, ce qui revient essentiellement à la même chose.\n",
    "\n",
    "L'image ci-dessous montre une matrice multipliée par son inverse, ce qui donne une matrice identité 2 par 2.\n",
    "\n",
    "<figure style=\"padding: 1em;\">\n",
    "    <img src=\"img/16.jpg\" width=\"500\" height=\"300\" alt=\"\">\n",
    "</figure>\n",
    "\n",
    "Vous pouvez facilement calculer l'inverse d'une matrice (si elle en a un) en utilisant Numpy. Voici le lien vers la documentation : [https://docs.scipy.org/doc/numpy-1.14.0/reference/generated/numpy.linalg.inv.html](https://docs.scipy.org/doc/numpy-1.14.0/reference/generated/numpy.linalg.inv.html)."
   ]
  },
  {
   "cell_type": "code",
   "execution_count": 59,
   "metadata": {},
   "outputs": [
    {
     "name": "stdout",
     "output_type": "stream",
     "text": [
      "[[-2.   1. ]\n",
      " [ 1.5 -0.5]]\n"
     ]
    }
   ],
   "source": [
    "### exemple d'inverse de matrice (simple)\n",
    "A = np.array([[1, 2], [3, 4]])\n",
    "A_inv = np.linalg.inv(A)\n",
    "print(A_inv)"
   ]
  },
  {
   "cell_type": "code",
   "execution_count": 60,
   "metadata": {},
   "outputs": [
    {
     "name": "stdout",
     "output_type": "stream",
     "text": [
      "[[ 0.6 -0.7]\n",
      " [-0.2  0.4]]\n"
     ]
    }
   ],
   "source": [
    "### autre exemple d'inverse de matrice (complexe)\n",
    "B = np.array([[4, 7], [2, 6]])\n",
    "B_inv = np.linalg.inv(B)\n",
    "print(B_inv)"
   ]
  },
  {
   "cell_type": "code",
   "execution_count": 61,
   "metadata": {},
   "outputs": [
    {
     "name": "stdout",
     "output_type": "stream",
     "text": [
      "[[1.0000000e+00 0.0000000e+00]\n",
      " [8.8817842e-16 1.0000000e+00]]\n"
     ]
    }
   ],
   "source": [
    "### vérification : multiplication de A par son inverse donne la matrice identité\n",
    "I = np.dot(A, A_inv)\n",
    "print(I)"
   ]
  },
  {
   "cell_type": "code",
   "execution_count": 62,
   "metadata": {},
   "outputs": [
    {
     "name": "stdout",
     "output_type": "stream",
     "text": [
      "[[ 1.00000000e+00 -1.11022302e-16]\n",
      " [-1.11022302e-16  1.00000000e+00]]\n"
     ]
    }
   ],
   "source": [
    "### autre vérification : multiplication de B par son inverse donne la matrice identité\n",
    "I_complex = np.dot(B, B_inv)\n",
    "print(I_complex)"
   ]
  },
  {
   "cell_type": "markdown",
   "metadata": {},
   "source": [
    "##### **2. Transposé**\n",
    "\n",
    "Et enfin, nous discuterons de la propriété de transposé de la matrice. \n",
    "\n",
    "Il s'agit essentiellement de **l'image miroir d'une matrice, le long d'un axe de 45 degrés.**  \n",
    "Il est assez simple d'obtenir le transposé d'une matrice. \n",
    "\n",
    "Sa première colonne est la première ligne du transposé de la matrice et la deuxième colonne est la deuxième ligne du transposé de la matrice. Une matrice m*n est transformée en une matrice n*m. \n",
    "\n",
    "**De plus, l'élément A[i, j] de A est égal à l'élément A[j, i] (transposé).** L'image ci-dessous illustre cela :\n",
    "\n",
    "<figure style=\"padding: 1em;\">\n",
    "    <img src=\"img/17.jpg\" width=\"500\" height=\"300\" alt=\"\">\n",
    "</figure>"
   ]
  },
  {
   "cell_type": "code",
   "execution_count": 63,
   "metadata": {},
   "outputs": [
    {
     "name": "stdout",
     "output_type": "stream",
     "text": [
      "[[1 3]\n",
      " [2 4]]\n"
     ]
    }
   ],
   "source": [
    "### exemple de transposé de matrice\n",
    "A_transpose = np.transpose(A)\n",
    "print(A_transpose)"
   ]
  },
  {
   "cell_type": "markdown",
   "metadata": {},
   "source": []
  },
  {
   "cell_type": "markdown",
   "metadata": {},
   "source": [
    "#### **IV. Prise en main de NumPy et Approfondissement**\n",
    "\n",
    "**NumPy (\"Numerical Python\")** est l'une des bibliothèques les plus puissantes de l'écosystème Python, en particulier pour les tâches nécessitant des calculs numériques de haute performance et la manipulation de données. \n",
    "\n",
    "\n",
    "##### **1. Tableaux NumPy (déjà vu!)**\n",
    "Pour créer un tableau dans NumPy, vous pouvez utiliser la fonction `numpy.array()`. Cette fonction prend un objet semblable à une séquence (liste, tuple, un autre tableau, etc.) et le convertit en un tableau.\n"
   ]
  },
  {
   "cell_type": "code",
   "execution_count": 64,
   "metadata": {},
   "outputs": [
    {
     "name": "stdout",
     "output_type": "stream",
     "text": [
      "[1 2 3 4 5]\n"
     ]
    }
   ],
   "source": [
    "import numpy as np\n",
    "\n",
    "### tableau simple à partir d'une liste\n",
    "simple_array = np.array([1, 2, 3, 4, 5])\n",
    "print(simple_array)"
   ]
  },
  {
   "cell_type": "code",
   "execution_count": 65,
   "metadata": {},
   "outputs": [
    {
     "name": "stdout",
     "output_type": "stream",
     "text": [
      "[[1 2]\n",
      " [3 4]\n",
      " [5 6]]\n"
     ]
    }
   ],
   "source": [
    "### tableau 2D à partir d'une liste de listes\n",
    "two_dim_array = np.array([[1, 2], [3, 4], [5, 6]])\n",
    "print(two_dim_array)"
   ]
  },
  {
   "cell_type": "markdown",
   "metadata": {},
   "source": [
    "##### **2. Caractéristiques des tableaux NumPy : dimensions, forme, taille, type de Données**\n",
    "\n",
    "Une fois que vous avez créé un tableau NumPy, il est crucial de comprendre ses caractéristiques pour l'utiliser efficacement.  \n",
    "Ces caractéristiques incluent **les dimensions, la forme, la taille et le type de données :**\n",
    "\n",
    "- **Dimensions** : c'est simplement son \"rang\". Un tableau 1D a un rang de 1, un tableau 2D a un rang de 2, etc.\n",
    "- **Forme** : décrit la taille le long de chacune de ses dimensions. Par exemple, pour un **tableau 2D avec m lignes et n colonnes, la forme serait A=(m,n)**.\n",
    "- **Taille** : nombre total d'éléments dans le tableau. Pour un **tableau 2D de forme (m,n), la taille serait m×n.**\n",
    "- **Type de données** : type des éléments contenus dans le tableau, noté `dtype`. Les types de données courants incluent les entiers (`int`), les flottants (`float`) et les nombres complexes (`complex`).\n",
    "\n",
    "Par exemple, considérons un tableau A de forme (3,2) :"
   ]
  },
  {
   "cell_type": "code",
   "execution_count": 66,
   "metadata": {},
   "outputs": [
    {
     "name": "stdout",
     "output_type": "stream",
     "text": [
      "Dimensions : 2\n",
      "Forme : (3, 2)\n",
      "Taille : 6\n",
      "Type de Données : int64\n"
     ]
    }
   ],
   "source": [
    "A = np.array([[1, 2], \n",
    "              [3, 4], \n",
    "              [5, 6]\n",
    "              ])\n",
    "\n",
    "### dimensions\n",
    "print(\"Dimensions :\", A.ndim)\n",
    "\n",
    "### forme\n",
    "print(\"Forme :\", A.shape )\n",
    "\n",
    "### taille\n",
    "print(\"Taille :\", A.size)\n",
    "\n",
    "### type de Données\n",
    "print(\"Type de Données :\", A.dtype)"
   ]
  },
  {
   "cell_type": "markdown",
   "metadata": {},
   "source": [
    "#### **3. Indexation, Slicing et Reshape des Tableaux NumPy**\n",
    "\n",
    "- **Accès aux éléments du tableau (Indexation):**\n",
    "L'indexation est l'opération qui vous permet d'accéder à des éléments individuels au sein d'un tableau. \n",
    "\n",
    "Pour accéder à un élément particulier A[i,j] dans un tableau 2D **A**, vous utilisez i pour spécifier la ligne et j pour spécifier la colonne."
   ]
  },
  {
   "cell_type": "code",
   "execution_count": 67,
   "metadata": {},
   "outputs": [
    {
     "name": "stdout",
     "output_type": "stream",
     "text": [
      "[[1 2 3]\n",
      " [4 5 6]\n",
      " [7 8 9]]\n",
      "Element indexé: 8\n"
     ]
    }
   ],
   "source": [
    "A = np.array([[1, 2, 3], \n",
    "              [4, 5, 6], \n",
    "              [7, 8, 9]\n",
    "              ])\n",
    "\n",
    "print(A)\n",
    "\n",
    "### accéder à l'élément de la première ligne et de la deuxième colonne\n",
    "element = A[2, 1]  \n",
    "\n",
    "print(f\"Element indexé: {element}\")"
   ]
  },
  {
   "cell_type": "markdown",
   "metadata": {},
   "source": [
    "- **Slicing des tableaux pour créer des sous-tableaux:**\n",
    "Le slicing est une opération polyvalente qui vous permet de créer des sous-tableaux à partir d'un tableau plus grand. Cela se fait en utilisant la notation `start:stop:step`, où :\n",
    "\n",
    "  - `start`: indice de départ (inclus).\n",
    "  - `stop`: indice de fin (exclus).\n",
    "  - `step`: intervalle entre chaque indice."
   ]
  },
  {
   "cell_type": "code",
   "execution_count": 68,
   "metadata": {},
   "outputs": [
    {
     "name": "stdout",
     "output_type": "stream",
     "text": [
      "[[1 2]\n",
      " [4 5]]\n"
     ]
    }
   ],
   "source": [
    "### créer un sous-tableau avec les 2 premières lignes et les 2 premières colonnes\n",
    "sub_array = A[0:2, 0:2]  \n",
    "\n",
    "print(sub_array)"
   ]
  },
  {
   "cell_type": "code",
   "execution_count": 69,
   "metadata": {},
   "outputs": [
    {
     "data": {
      "text/plain": [
       "array([[1, 3],\n",
       "       [7, 9]])"
      ]
     },
     "execution_count": 69,
     "metadata": {},
     "output_type": "execute_result"
    }
   ],
   "source": [
    "sub_array = A[0::2, 0::2] \n",
    "sub_array"
   ]
  },
  {
   "cell_type": "markdown",
   "metadata": {},
   "source": [
    "- **Reshape des tableaux pour changer leurs dimensions:**\n",
    "Le reshape est une fonctionnalité puissante de NumPy qui vous permet de changer les dimensions de votre tableau sans altérer les données sous-jacentes. Le principe fondamental à garder à l'esprit est que le produit des dimensions doit rester constant."
   ]
  },
  {
   "cell_type": "code",
   "execution_count": 70,
   "metadata": {},
   "outputs": [
    {
     "name": "stdout",
     "output_type": "stream",
     "text": [
      "[[1 2 3 4 5 6 7 8 9]]\n"
     ]
    }
   ],
   "source": [
    "### reshape d'un tableau 3x3 en un tableau 1x9\n",
    "\n",
    "reshaped_array = A.reshape(1, 9)  \n",
    "print(reshaped_array)"
   ]
  },
  {
   "cell_type": "markdown",
   "metadata": {},
   "source": [
    "Dans cet exemple, 3×3=1×9, satisfaisant l'équation de reshape m×n=p×q.\n",
    "\n",
    "\n",
    "##### **Approfondissement: 3. Broadcasting des tableaux NumPy**\n",
    "\n",
    "Le broadcasting dans NumPy fait référence à l'**ensemble des règles qui permettent des opérations binaires élémentaires sur des tableaux d'entrées de formes ou de dimensions différentes**. \n",
    "\n",
    "\n",
    "Contrairement aux opérations algébriques linéaires typiques qui nécessitent des dimensions congruentes, le broadcasting vous permet d'étendre implicitement des tableaux plus petits à la forme de tableaux plus grands, permettant ainsi des calculs plus rapides et plus efficaces en termes de mémoire.\n",
    "\n",
    "\n",
    "- **Pourquoi le broadcasting est utile?**\n",
    "\n",
    "Le broadcasting simplifie le code et améliore les performances en éliminant le besoin de boucles explicites et de réplication des données.\n",
    "\n",
    "Cela est particulièrement bénéfique lors du traitement de grands ensembles de données, où la duplication explicite pourrait entraîner des inefficacités de calcul ou des contraintes de mémoire.  \n",
    "\n",
    "De plus, comme le broadcasting est implémenté au niveau C dans NumPy, il est nettement plus rapide que les opérations au niveau Python.\n",
    "\n",
    "- **Règles et scénarios où le broadcasting s'applique:**\n",
    "\n",
    "Pour appliquer le broadcasting, certaines règles doivent être suivies. Plus précisément, les dimensions sont considérées de droite à gauche, et pour chaque dimension :\n",
    "\n",
    "  - Si les tailles de dimension sont égales, continuez.\n",
    "  - Si l'une des dimensions est 1, alors étendez-la pour correspondre à l'autre dimension.\n",
    "\n",
    "**En termes mathématiques, le broadcasting d'un tableau (m,n) avec un tableau (m,1) ou (1,n) donnera un tableau (m,n).** \n",
    "\n",
    "**Exprimé comme une équation :** (m,n) tableau avec (m,1) ou (1,n) tableau donne (m,n) tableau"
   ]
  },
  {
   "cell_type": "code",
   "execution_count": 71,
   "metadata": {},
   "outputs": [
    {
     "data": {
      "text/plain": [
       "array([[2, 4],\n",
       "       [4, 6],\n",
       "       [6, 8]])"
      ]
     },
     "execution_count": 71,
     "metadata": {},
     "output_type": "execute_result"
    }
   ],
   "source": [
    "A = np.array([[1, 2], \n",
    "              [3, 4], \n",
    "              [5, 6]\n",
    "              ]) \n",
    "\n",
    "B = np.array([1, 2])\n",
    "\n",
    "### broadcasting de B sur A\n",
    "C = A + B\n",
    "C"
   ]
  },
  {
   "cell_type": "code",
   "execution_count": 72,
   "metadata": {},
   "outputs": [
    {
     "data": {
      "text/plain": [
       "array([[2, 3],\n",
       "       [5, 6],\n",
       "       [8, 9]])"
      ]
     },
     "execution_count": 72,
     "metadata": {},
     "output_type": "execute_result"
    }
   ],
   "source": [
    "A = np.array([[1, 2], \n",
    "              [3, 4], \n",
    "              [5, 6]\n",
    "              ]) \n",
    "\n",
    "B = np.array([[1],\n",
    "              [2],\n",
    "              [3]])\n",
    "\n",
    "### broadcasting de B sur A\n",
    "C = A + B\n",
    "C"
   ]
  },
  {
   "cell_type": "markdown",
   "metadata": {},
   "source": [
    "Ici, le tableau B de forme (1,2) est broadcasté sur A de forme (3,2), ce qui donne un nouveau tableau (3,2) C.\n",
    "\n",
    "\n",
    "#### **Petit cadeau de fin pour les plus matheux: Calcul de valeurs et de vecteurs propres**\n",
    "\n",
    "Les problèmes de valeurs propres apparaissent souvent dans diverses applications comme l'analyse de la stabilité des systèmes et les graphiques informatiques. NumPy offre un moyen efficace de résoudre ces problèmes grâce à la fonction `numpy.linalg.eig()`, qui renvoie à la fois les valeurs propres et les vecteurs propres d'une matrice carrée."
   ]
  },
  {
   "cell_type": "code",
   "execution_count": 73,
   "metadata": {},
   "outputs": [
    {
     "data": {
      "text/plain": [
       "(array([-0.37228132,  5.37228132]),\n",
       " array([[-0.82456484, -0.41597356],\n",
       "        [ 0.56576746, -0.90937671]]))"
      ]
     },
     "execution_count": 73,
     "metadata": {},
     "output_type": "execute_result"
    }
   ],
   "source": [
    "import numpy as np\n",
    "\n",
    "A = np.array([[1, 2], \n",
    "              [3, 4]\n",
    "              ])\n",
    "\n",
    "### calculer les valeurs propres et les vecteurs propres\n",
    "eigenvalues, eigenvectors = np.linalg.eig(A)\n",
    "eigenvalues, eigenvectors"
   ]
  },
  {
   "cell_type": "code",
   "execution_count": null,
   "metadata": {},
   "outputs": [],
   "source": []
  }
 ],
 "metadata": {
  "kernelspec": {
   "display_name": "venv",
   "language": "python",
   "name": "python3"
  },
  "language_info": {
   "codemirror_mode": {
    "name": "ipython",
    "version": 3
   },
   "file_extension": ".py",
   "mimetype": "text/x-python",
   "name": "python",
   "nbconvert_exporter": "python",
   "pygments_lexer": "ipython3",
   "version": "3.12.9"
  }
 },
 "nbformat": 4,
 "nbformat_minor": 2
}
